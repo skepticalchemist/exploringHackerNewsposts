{
 "cells": [
  {
   "cell_type": "markdown",
   "metadata": {},
   "source": [
    "# Exploring submissions in Hacker News data set \n",
    "\n",
    "\n",
    "## Project overview\n",
    "\n",
    "This project is about the popular website [Hacker News](https://news.ycombinator.com/) (HN), a social news website that mixes computer science and entrepreneurship. We´ll explore some trends in the data set of HN site, more specifically, we are interested in submissions where users ask questions (**Ask HN** posts) or show a project, product or something interesting (**Show HN** posts).\n",
    "\n",
    "## Goal\n",
    "* Investigate which posts (ask or show) receive more comments on average;\n",
    "* Determine if posts created at a specific time receive more comments.\n",
    "\n",
    "## Tools\n",
    "* Python\n",
    "* Jupyter Lab\n",
    "\n",
    "## Getting to know the data\n",
    "\n",
    "The data set is formed by HN posts from 12 months (up to September 26, 2016). We'll use here a reduced version of the original [data set](https://www.kaggle.com/hacker-news/hacker-news-posts) (from almost 300k rows was reduced to approximately 20k rows) obtained by removing all submissions that did not receive any comments, and then randomly sampling the remaining submissions.\n",
    "\n",
    " \n",
    "|**Table 1.** Features in the Hacker News data set.                                      |\n",
    "|:--------------------------------------------------------------------------------------------|\n",
    "\n",
    "|Feature      | Description                                                                   | \n",
    "|:------------|:------------------------------------------------------------------------------|\n",
    "|id           | identification number                                                         |   \n",
    "|title        | title of the post (self explanatory)                                          |\n",
    "|url          | the url of the item being linked to                                           |\n",
    "|num_points   | the number of upvotes the post received                                       |\n",
    "|num_comments | the number of comments the post received                                      |\n",
    "|author       | the name of the account that made the post                                    |\n",
    "|created_at   | the date and time the post was made (the time zone is Eastern Time in the US) |\n",
    "\n",
    "\n",
    "We'll start reading the data set file and displaying the first rows of it using a previously created user-defined function `explore_data`."
   ]
  },
  {
   "cell_type": "code",
   "execution_count": 1,
   "metadata": {},
   "outputs": [],
   "source": [
    "# Exploring data sets with the user-defined function explore_data()\n",
    "def explore_data(dataset, start, end, rows_and_columns=False):     \n",
    "    \"\"\"\n",
    "    Prints rows in a readable way and then shows the number of rows and columns of a selected data set.\n",
    "    \n",
    "    : dataset, expected to be a list\n",
    "    : start and end, integers that represent the starting and ending indices of a slice from the data set\n",
    "    : rows_and_columns is a boolean whose default argument is False; if it is True prints the number of rows and columns  \n",
    "    : the function expects data doesn't have a header row, otherwise it will print one more row compared to the actual lenght\n",
    "    \"\"\"\n",
    "    dataset_slice = dataset[start:end]\n",
    "    for row in dataset_slice:\n",
    "        print(row)\n",
    "        print('\\n')  # adds an empty new line after each row\n",
    "        \n",
    "    if rows_and_columns:\n",
    "        print('Number of rows    =', len(dataset))\n",
    "        print('Number of columns =', len(dataset[0]))"
   ]
  },
  {
   "cell_type": "code",
   "execution_count": 2,
   "metadata": {},
   "outputs": [],
   "source": [
    "# Opening the reduced HN data set\n",
    "from csv import reader\n",
    "\n",
    "hn_file = open('hacker_news.csv', encoding='utf8')\n",
    "read_hn = reader(hn_file)\n",
    "hn_dataset = list(read_hn)\n",
    "hn_header = hn_dataset[0]\n",
    "hn_dataset = hn_dataset[1:]"
   ]
  },
  {
   "cell_type": "markdown",
   "metadata": {},
   "source": [
    "Using the user-defined function `explore_data` we can examine the first rows of the data set."
   ]
  },
  {
   "cell_type": "code",
   "execution_count": 3,
   "metadata": {},
   "outputs": [
    {
     "name": "stdout",
     "output_type": "stream",
     "text": [
      "\n",
      "||||||||||||||||||||||||| HACKER NEWS DATA SET |||||||||||||||||||||||||\n",
      "\n",
      "['id', 'title', 'url', 'num_points', 'num_comments', 'author', 'created_at'] \n",
      "\n",
      "['12224879', 'Interactive Dynamic Video', 'http://www.interactivedynamicvideo.com/', '386', '52', 'ne0phyte', '8/4/2016 11:52']\n",
      "\n",
      "\n",
      "['10975351', 'How to Use Open Source and Shut the Fuck Up at the Same Time', 'http://hueniverse.com/2016/01/26/how-to-use-open-source-and-shut-the-fuck-up-at-the-same-time/', '39', '10', 'josep2', '1/26/2016 19:30']\n",
      "\n",
      "\n",
      "['11964716', \"Florida DJs May Face Felony for April Fools' Water Joke\", 'http://www.thewire.com/entertainment/2013/04/florida-djs-april-fools-water-joke/63798/', '2', '1', 'vezycash', '6/23/2016 22:20']\n",
      "\n",
      "\n",
      "['11919867', 'Technology ventures: From Idea to Enterprise', 'https://www.amazon.com/Technology-Ventures-Enterprise-Thomas-Byers/dp/0073523429', '3', '1', 'hswarna', '6/17/2016 0:01']\n",
      "\n",
      "\n",
      "['10301696', 'Note by Note: The Making of Steinway L1037 (2007)', 'http://www.nytimes.com/2007/11/07/movies/07stein.html?_r=0', '8', '2', 'walterbell', '9/30/2015 4:12']\n",
      "\n",
      "\n",
      "Number of rows    = 20100\n",
      "Number of columns = 7\n",
      "^^^^^^^^^^^^^^^^^^^^^^^^^ HACKER NEWS DATA SET ^^^^^^^^^^^^^^^^^^^^^^^^^\n",
      "\n"
     ]
    }
   ],
   "source": [
    "# Examining the data set using the user-defined function explore_data \n",
    "print('\\n{:|^72}\\n'.format(' HACKER NEWS DATA SET '))\n",
    "print(hn_header, '\\n')\n",
    "explore_data(hn_dataset, 0, 5, rows_and_columns=True)\n",
    "print('{:^^72}\\n'.format(' HACKER NEWS DATA SET '))                    "
   ]
  },
  {
   "cell_type": "markdown",
   "metadata": {},
   "source": [
    "## Filtering posts\n",
    "\n",
    "The data set has dimensions of 20100 rows $\\times$ 7 columns.\n",
    "\n",
    "Considering that we want to investigate which HN posts (ask or show) will receive more comments on average, we must filter this information. \n",
    "\n",
    "Because the titles of these posts begin with `Ask HN` or `Show HN` we can use this information as a criterion to create new lists containing these data separately. Since capitalization matters, we can apply first the `lower` method to have a lowercase version of the string and then use the `startswith` method to search for `Ask HN` or `Show HN` at the beginning of the string."
   ]
  },
  {
   "cell_type": "code",
   "execution_count": 4,
   "metadata": {},
   "outputs": [],
   "source": [
    "# creating different lists to separate specific posts\n",
    "ask_posts = []         # Ask HN posts  \n",
    "show_posts = []        # Show HN posts \n",
    "other_posts = []       \n",
    "\n",
    "for row in hn_dataset:\n",
    "    title = row[1]\n",
    "    if title.lower().startswith('ask hn'):      # identify Ask HN post\n",
    "        ask_posts.append(row)\n",
    "    elif title.lower().startswith('show hn'):   # identify Show HN post\n",
    "        show_posts.append(row)\n",
    "    else:\n",
    "        other_posts.append(row)                 # any other type of post"
   ]
  },
  {
   "cell_type": "markdown",
   "metadata": {},
   "source": [
    "Once again we can use the function `explore_data` to examine our new lists."
   ]
  },
  {
   "cell_type": "code",
   "execution_count": 5,
   "metadata": {},
   "outputs": [
    {
     "name": "stdout",
     "output_type": "stream",
     "text": [
      "\n",
      "|||||||||||||||||||||||||||| ask_posts list ||||||||||||||||||||||||||||\n",
      "\n",
      "['12296411', 'Ask HN: How to improve my personal website?', '', '2', '6', 'ahmedbaracat', '8/16/2016 9:55']\n",
      "\n",
      "\n",
      "['10610020', 'Ask HN: Am I the only one outraged by Twitter shutting down share counts?', '', '28', '29', 'tkfx', '11/22/2015 13:43']\n",
      "\n",
      "\n",
      "['11610310', 'Ask HN: Aby recent changes to CSS that broke mobile?', '', '1', '1', 'polskibus', '5/2/2016 10:14']\n",
      "\n",
      "\n",
      "Number of rows    = 1744\n",
      "Number of columns = 7\n",
      "^^^^^^^^^^^^^^^^^^^^^^^^^^^^ ask_posts list ^^^^^^^^^^^^^^^^^^^^^^^^^^^^\n",
      "\n"
     ]
    }
   ],
   "source": [
    "print('\\n{:|^72}\\n'.format(' ask_posts list '))\n",
    "explore_data(ask_posts, 0, 3, rows_and_columns=True)\n",
    "print('{:^^72}\\n'.format(' ask_posts list '))     "
   ]
  },
  {
   "cell_type": "code",
   "execution_count": 6,
   "metadata": {},
   "outputs": [
    {
     "name": "stdout",
     "output_type": "stream",
     "text": [
      "\n",
      "||||||||||||||||||||||||||| show_posts list ||||||||||||||||||||||||||||\n",
      "\n",
      "['10627194', 'Show HN: Wio Link  ESP8266 Based Web of Things Hardware Development Platform', 'https://iot.seeed.cc', '26', '22', 'kfihihc', '11/25/2015 14:03']\n",
      "\n",
      "\n",
      "['10646440', 'Show HN: Something pointless I made', 'http://dn.ht/picklecat/', '747', '102', 'dhotson', '11/29/2015 22:46']\n",
      "\n",
      "\n",
      "['11590768', 'Show HN: Shanhu.io, a programming playground powered by e8vm', 'https://shanhu.io', '1', '1', 'h8liu', '4/28/2016 18:05']\n",
      "\n",
      "\n",
      "Number of rows    = 1162\n",
      "Number of columns = 7\n",
      "^^^^^^^^^^^^^^^^^^^^^^^^^^^ show_posts list ^^^^^^^^^^^^^^^^^^^^^^^^^^^^\n",
      "\n"
     ]
    }
   ],
   "source": [
    "print('\\n{:|^72}\\n'.format(' show_posts list '))\n",
    "explore_data(show_posts, 0, 3, rows_and_columns=True)\n",
    "print('{:^^72}\\n'.format(' show_posts list '))     "
   ]
  },
  {
   "cell_type": "code",
   "execution_count": 7,
   "metadata": {},
   "outputs": [
    {
     "name": "stdout",
     "output_type": "stream",
     "text": [
      "\n",
      "||||||||||||||||||||||||||| other_posts list |||||||||||||||||||||||||||\n",
      "\n",
      "['12224879', 'Interactive Dynamic Video', 'http://www.interactivedynamicvideo.com/', '386', '52', 'ne0phyte', '8/4/2016 11:52']\n",
      "\n",
      "\n",
      "['10975351', 'How to Use Open Source and Shut the Fuck Up at the Same Time', 'http://hueniverse.com/2016/01/26/how-to-use-open-source-and-shut-the-fuck-up-at-the-same-time/', '39', '10', 'josep2', '1/26/2016 19:30']\n",
      "\n",
      "\n",
      "['11964716', \"Florida DJs May Face Felony for April Fools' Water Joke\", 'http://www.thewire.com/entertainment/2013/04/florida-djs-april-fools-water-joke/63798/', '2', '1', 'vezycash', '6/23/2016 22:20']\n",
      "\n",
      "\n",
      "Number of rows    = 17194\n",
      "Number of columns = 7\n",
      "^^^^^^^^^^^^^^^^^^^^^^^^^^^ other_posts list ^^^^^^^^^^^^^^^^^^^^^^^^^^^\n",
      "\n"
     ]
    }
   ],
   "source": [
    "print('\\n{:|^72}\\n'.format(' other_posts list '))\n",
    "explore_data(other_posts, 0, 3, rows_and_columns=True)\n",
    "print('{:^^72}\\n'.format(' other_posts list '))   "
   ]
  },
  {
   "cell_type": "markdown",
   "metadata": {},
   "source": [
    "From 20100 Hacker News' posts, 1162 are Show posts, 1744 Ask posts, and 17194 other post types. These observations are better visualized in **Figure 1**."
   ]
  },
  {
   "cell_type": "code",
   "execution_count": 28,
   "metadata": {},
   "outputs": [
    {
     "data": {
      "image/png": "[encoded data removed]",
      "text/plain": [
       "<Figure size 576x396 with 1 Axes>"
      ]
     },
     "metadata": {},
     "output_type": "display_data"
    },
    {
     "name": "stdout",
     "output_type": "stream",
     "text": [
      "\u001b[1m Figure 1\u001b[0m. Post types in Hacker News website.\n",
      "\n"
     ]
    }
   ],
   "source": [
    "import matplotlib.pyplot as plt\n",
    "import numpy as np\n",
    "\n",
    "# data from the previous step\n",
    "counts = [1162, 1744, 17194]\n",
    "names = ['Show HN', 'Ask HN', 'Other posts']\n",
    "index = np.arange(len(names))\n",
    "\n",
    "bar_width = 1.0\n",
    "width = 0.3\n",
    "\n",
    "plt.style.use('seaborn')\n",
    "plt.barh(index, counts, width, bar_width, align='center', color=('violet', 'darkorchid', 'indigo'))\n",
    "plt.ylabel('post type', fontsize=15, labelpad=20, weight='bold', size=18)\n",
    "plt.xlabel('number of comments', fontsize=15, labelpad=20, weight='bold', size=18)\n",
    "plt.yticks(index, names, fontsize=16, rotation=0)\n",
    "plt.xticks(fontsize=14, rotation=0)\n",
    "plt.xlim(0, 18000)\n",
    "plt.title('HN posts', fontsize=25)\n",
    "plt.show()\n",
    "\n",
    "print('\\033[1m Figure 1\\033[0m. Post types in Hacker News website.\\n')  # using unicode for bold"
   ]
  },
  {
   "cell_type": "markdown",
   "metadata": {},
   "source": [
    "## Analyzing which type of post received more comments\n",
    "\n",
    "Now that we filter the posts of interest, we can investigate which of them received more comments on average. For this, we can compare the calculated values for the average number of comments for Ask HN and Show HN posts."
   ]
  },
  {
   "cell_type": "code",
   "execution_count": 9,
   "metadata": {},
   "outputs": [
    {
     "name": "stdout",
     "output_type": "stream",
     "text": [
      ">>> Ask HN average number of comments  = 14.0\n",
      "\n",
      ">>> Show HN average number of comments = 10.3\n",
      "\n"
     ]
    }
   ],
   "source": [
    "# Calculating the average number of comments in Ask HN posts\n",
    "total_ask_comments = 0\n",
    "\n",
    "for row in ask_posts:\n",
    "    num_ask_comments = int(row[4])\n",
    "    total_ask_comments += num_ask_comments\n",
    "    \n",
    "avg_ask_comments = total_ask_comments / len(ask_posts)\n",
    "print('>>> Ask HN average number of comments  = {:.1f}\\n'.format(avg_ask_comments))\n",
    "\n",
    "# Calculating the average number of comments in Show HN posts\n",
    "total_show_comments = 0\n",
    "\n",
    "for row in show_posts:\n",
    "    num_show_comments = int(row[4])\n",
    "    total_show_comments += num_show_comments  \n",
    "    \n",
    "avg_show_comments = total_show_comments / len(show_posts)\n",
    "print('>>> Show HN average number of comments = {:.1f}\\n'.format(avg_show_comments))"
   ]
  },
  {
   "cell_type": "markdown",
   "metadata": {},
   "source": [
    "From the previous results, we see that on average, Ask HN posts have about 26.4% more comments than Show HN posts.\n",
    "\n",
    "This result leads to another question. Are posts created at a certain time more likely to attract comments? To answer it, we'll concentrate only on the more commented posts, that is the Ask HN posts.\n"
   ]
  },
  {
   "cell_type": "markdown",
   "metadata": {},
   "source": [
    "### Calculating the number of Ask HN posts created and their comments received\n",
    "Let's take a look in the date/time format of our data set."
   ]
  },
  {
   "cell_type": "code",
   "execution_count": 10,
   "metadata": {},
   "outputs": [
    {
     "name": "stdout",
     "output_type": "stream",
     "text": [
      "6/18/2016 16:35\n"
     ]
    }
   ],
   "source": [
    "print(ask_posts[200][6])"
   ]
  },
  {
   "cell_type": "markdown",
   "metadata": {},
   "source": [
    "From the above output, the date/time format in our dataset has the following pattern: day/month/year(four digits), hour (24-hour format) and minutes. We'll use this information to create a datetime object below. \n",
    "\n",
    "We also can create two dictionaries to store the amount of created posts at each hour during the day plus the number of comments each post received."
   ]
  },
  {
   "cell_type": "markdown",
   "metadata": {},
   "source": [
    "### Assessing the number of Ask HN posts created during each hour of the day"
   ]
  },
  {
   "cell_type": "markdown",
   "metadata": {},
   "source": [
    "We can calculate the amount of Ask HN posts created during each hour of the day and the number of comments it received."
   ]
  },
  {
   "cell_type": "code",
   "execution_count": 11,
   "metadata": {},
   "outputs": [],
   "source": [
    "import datetime as dt\n",
    "\n",
    "result_list = []\n",
    "\n",
    "for row in ask_posts:\n",
    "    num_ask_comments = int(row[4])    # post's creation date\n",
    "    created_at = row[6]               # number of comments\n",
    "    element_list = [created_at, num_ask_comments]\n",
    "    result_list.append(element_list)\n",
    "    \n",
    "counts_by_hour = {}        # amount of Ask HN posts created during each hour of the day\n",
    "comments_by_hour = {}      # number of comments each Ask HN post received\n",
    "\n",
    "for row in result_list:\n",
    "    date_string = row[0]\n",
    "    comments = row[1]\n",
    "    \n",
    "    # creates a datetime object from our date_string\n",
    "    datetime_object = dt.datetime.strptime(date_string, '%m/%d/%Y %H:%M')\n",
    "    \n",
    "    # extracts the hour\n",
    "    hour = datetime_object.strftime('%H')\n",
    "\n",
    "    if hour not in counts_by_hour:\n",
    "        counts_by_hour[hour] = 1\n",
    "        comments_by_hour[hour] =  comments\n",
    "    else:\n",
    "        counts_by_hour[hour] += 1\n",
    "        comments_by_hour[hour] += comments      \n",
    "    "
   ]
  },
  {
   "cell_type": "markdown",
   "metadata": {},
   "source": [
    "For the sake of clarity, we can create the user-defined function `sorting_dictionary` to sort the comments by the hour."
   ]
  },
  {
   "cell_type": "code",
   "execution_count": 12,
   "metadata": {},
   "outputs": [],
   "source": [
    "def sorting_dictionary(dictionary):\n",
    "    \"\"\"\n",
    "    Take in as input a dictionary, converts it to a list of lists and sort it by its key values. \n",
    "    The key value is expected to store the hour values.\n",
    "    \"\"\"\n",
    "    \n",
    "    list2dict = []\n",
    "    for key in dictionary:\n",
    "        item = [int(key), int(dictionary[key])]\n",
    "        list2dict.append(item)\n",
    "        \n",
    "    for row in list2dict:\n",
    "        if row[0] == 0:\n",
    "            row[0] = 24   # converts 0 to 24 hour\n",
    "            \n",
    "    sorted_dict = sorted(list2dict)    \n",
    "    \n",
    "    return sorted_dict"
   ]
  },
  {
   "cell_type": "markdown",
   "metadata": {},
   "source": [
    "The function `sorting_dictionary` sorts the number of posts created during each hour of the day."
   ]
  },
  {
   "cell_type": "code",
   "execution_count": 13,
   "metadata": {},
   "outputs": [
    {
     "data": {
      "text/plain": [
       "[[1, 60],\n",
       " [2, 58],\n",
       " [3, 54],\n",
       " [4, 47],\n",
       " [5, 46],\n",
       " [6, 44],\n",
       " [7, 34],\n",
       " [8, 48],\n",
       " [9, 45],\n",
       " [10, 59],\n",
       " [11, 58],\n",
       " [12, 73],\n",
       " [13, 85],\n",
       " [14, 107],\n",
       " [15, 116],\n",
       " [16, 108],\n",
       " [17, 100],\n",
       " [18, 109],\n",
       " [19, 110],\n",
       " [20, 80],\n",
       " [21, 109],\n",
       " [22, 71],\n",
       " [23, 68],\n",
       " [24, 55]]"
      ]
     },
     "execution_count": 13,
     "metadata": {},
     "output_type": "execute_result"
    }
   ],
   "source": [
    "sorting_dictionary(counts_by_hour)"
   ]
  },
  {
   "cell_type": "markdown",
   "metadata": {},
   "source": [
    "We can visualize this result in **Figure 2**."
   ]
  },
  {
   "cell_type": "code",
   "execution_count": 14,
   "metadata": {},
   "outputs": [
    {
     "data": {
      "image/png": "[encoded data removed]",
      "text/plain": [
       "<Figure size 864x576 with 1 Axes>"
      ]
     },
     "metadata": {
      "needs_background": "light"
     },
     "output_type": "display_data"
    },
    {
     "name": "stdout",
     "output_type": "stream",
     "text": [
      "\u001b[1m Figure 2\u001b[0m. Amount of Ask HN posts created during each hour of the day.\n",
      "\n"
     ]
    }
   ],
   "source": [
    "sorted_counts_by_hour = sorting_dictionary(counts_by_hour)\n",
    "sorted_counts_by_hour = dict(sorted_counts_by_hour)\n",
    "\n",
    "plt.figure(figsize=(12, 8))\n",
    "plt.style.use('fivethirtyeight')\n",
    "plt.bar(sorted_counts_by_hour.keys(), sorted_counts_by_hour.values(), color='darkorchid')\n",
    "plt.title('created Ask HN posts', fontsize=25)\n",
    "plt.ylabel('number of posts created', fontsize=15, labelpad=20, weight='bold', size=22)\n",
    "plt.xlabel('hour', fontsize=15, labelpad=20, weight='bold', size=22)\n",
    "plt.locator_params(axis='x', nbins=47)\n",
    "plt.ylim(0, 120)\n",
    "plt.xlim(0.5, 24.5)\n",
    "plt.xticks(fontsize=16)\n",
    "plt.yticks(fontsize=16)\n",
    "plt.show()\n",
    "print('\\033[1m Figure 2\\033[0m. Amount of Ask HN posts created during each hour of the day.\\n')  # using unicode for bold"
   ]
  },
  {
   "cell_type": "markdown",
   "metadata": {},
   "source": [
    "### Assessing the number of Ask HN comments received for each post\n",
    "\n",
    "The `function sorting_dictionary` also sorts the number of comments each post received during each hour of the day."
   ]
  },
  {
   "cell_type": "code",
   "execution_count": 15,
   "metadata": {},
   "outputs": [
    {
     "data": {
      "text/plain": [
       "[[1, 683],\n",
       " [2, 1381],\n",
       " [3, 421],\n",
       " [4, 337],\n",
       " [5, 464],\n",
       " [6, 397],\n",
       " [7, 267],\n",
       " [8, 492],\n",
       " [9, 251],\n",
       " [10, 793],\n",
       " [11, 641],\n",
       " [12, 687],\n",
       " [13, 1253],\n",
       " [14, 1416],\n",
       " [15, 4477],\n",
       " [16, 1814],\n",
       " [17, 1146],\n",
       " [18, 1439],\n",
       " [19, 1188],\n",
       " [20, 1722],\n",
       " [21, 1745],\n",
       " [22, 479],\n",
       " [23, 543],\n",
       " [24, 447]]"
      ]
     },
     "execution_count": 15,
     "metadata": {},
     "output_type": "execute_result"
    }
   ],
   "source": [
    "sorting_dictionary(comments_by_hour)"
   ]
  },
  {
   "cell_type": "markdown",
   "metadata": {},
   "source": [
    "We can visualize this result in **Figure 3**."
   ]
  },
  {
   "cell_type": "code",
   "execution_count": 16,
   "metadata": {},
   "outputs": [
    {
     "data": {
      "image/png": "[encoded data removed]",
      "text/plain": [
       "<Figure size 864x576 with 1 Axes>"
      ]
     },
     "metadata": {},
     "output_type": "display_data"
    },
    {
     "name": "stdout",
     "output_type": "stream",
     "text": [
      "\u001b[1m Figure 3\u001b[0m. The number of comments of Ask HN posts received by the hour.\n",
      "\n"
     ]
    }
   ],
   "source": [
    "sorted_comments_by_hour = sorting_dictionary(comments_by_hour)\n",
    "sorted_comments_by_hour = dict(sorted_comments_by_hour)\n",
    "\n",
    "plt.figure(figsize=(12, 8))\n",
    "plt.style.use('fivethirtyeight')\n",
    "plt.bar(sorted_comments_by_hour.keys(), sorted_comments_by_hour.values(), color='violet')\n",
    "plt.title('received comments by Ask HN posts', fontsize=25)\n",
    "plt.ylabel('number of comments received', fontsize=15, labelpad=20, weight='bold', size=22)\n",
    "plt.xlabel('hour', fontsize=15, labelpad=20, weight='bold', size=22)\n",
    "plt.locator_params(axis='x', nbins=47)\n",
    "plt.ylim(0, 5000)\n",
    "plt.xlim(0.5, 24.5)\n",
    "plt.xticks(fontsize=16)\n",
    "plt.yticks(fontsize=16)\n",
    "plt.show()\n",
    "print('\\033[1m Figure 3\\033[0m. The number of comments of Ask HN posts received by the hour.\\n')  # using unicode for bold"
   ]
  },
  {
   "cell_type": "markdown",
   "metadata": {},
   "source": [
    "### Estimating the average number of comments received by Ask HN posts\n",
    "\n",
    "The average number of comments received at each hour is determined by dividing the number of comments received by the number of posts created."
   ]
  },
  {
   "cell_type": "code",
   "execution_count": 17,
   "metadata": {},
   "outputs": [],
   "source": [
    "avg_by_hour = []\n",
    "\n",
    "for key_hour in comments_by_hour:\n",
    "    avg_by_hour.append([int(key_hour), comments_by_hour[key_hour] / counts_by_hour[key_hour]])"
   ]
  },
  {
   "cell_type": "code",
   "execution_count": 18,
   "metadata": {},
   "outputs": [],
   "source": [
    "# Converting 0 to 24 hour\n",
    "for row in avg_by_hour:\n",
    "    if row[0] == 0:\n",
    "        row[0] = 24   # converts 0 to 24 hour\n",
    "        \n",
    "sorted_avg_by_hour = sorted(avg_by_hour)        \n",
    " "
   ]
  },
  {
   "cell_type": "markdown",
   "metadata": {},
   "source": [
    "The average number of comments received can be seen below, and they are also plotted in **Figure 4**."
   ]
  },
  {
   "cell_type": "code",
   "execution_count": 19,
   "metadata": {},
   "outputs": [
    {
     "data": {
      "text/plain": [
       "[[1, 11.383333333333333],\n",
       " [2, 23.810344827586206],\n",
       " [3, 7.796296296296297],\n",
       " [4, 7.170212765957447],\n",
       " [5, 10.08695652173913],\n",
       " [6, 9.022727272727273],\n",
       " [7, 7.852941176470588],\n",
       " [8, 10.25],\n",
       " [9, 5.5777777777777775],\n",
       " [10, 13.440677966101696],\n",
       " [11, 11.051724137931034],\n",
       " [12, 9.41095890410959],\n",
       " [13, 14.741176470588234],\n",
       " [14, 13.233644859813085],\n",
       " [15, 38.5948275862069],\n",
       " [16, 16.796296296296298],\n",
       " [17, 11.46],\n",
       " [18, 13.20183486238532],\n",
       " [19, 10.8],\n",
       " [20, 21.525],\n",
       " [21, 16.009174311926607],\n",
       " [22, 6.746478873239437],\n",
       " [23, 7.985294117647059],\n",
       " [24, 8.127272727272727]]"
      ]
     },
     "execution_count": 19,
     "metadata": {},
     "output_type": "execute_result"
    }
   ],
   "source": [
    "sorted_avg_by_hour "
   ]
  },
  {
   "cell_type": "code",
   "execution_count": 20,
   "metadata": {},
   "outputs": [
    {
     "data": {
      "image/png": "[encoded data removed]",
      "text/plain": [
       "<Figure size 864x576 with 1 Axes>"
      ]
     },
     "metadata": {},
     "output_type": "display_data"
    },
    {
     "name": "stdout",
     "output_type": "stream",
     "text": [
      "\u001b[1m Figure 4\u001b[0m. The average number of comments received by Ask HN posts by the hour.\n",
      "\n"
     ]
    }
   ],
   "source": [
    "dict_sorted_avg_by_hour = dict(sorted_avg_by_hour)\n",
    "\n",
    "plt.figure(figsize=(12, 8))\n",
    "plt.style.use('fivethirtyeight')\n",
    "plt.bar(dict_sorted_avg_by_hour.keys(), dict_sorted_avg_by_hour.values(), color='indigo')\n",
    "plt.title('average number of comments received by Ask HN posts', fontsize=25)\n",
    "plt.ylabel('average number of comments', fontsize=15, labelpad=20, weight='bold', size=22)\n",
    "plt.xlabel('hour', fontsize=15, labelpad=20, weight='bold', size=22)\n",
    "plt.locator_params(axis='x', nbins=47)\n",
    "plt.ylim(0, 40)\n",
    "plt.xlim(0.5, 24.5)\n",
    "plt.xticks(fontsize=16)\n",
    "plt.yticks(fontsize=16)\n",
    "plt.show()\n",
    "print('\\033[1m Figure 4\\033[0m. The average number of comments received by Ask HN posts by the hour.\\n')  # using unicode for bold"
   ]
  },
  {
   "cell_type": "markdown",
   "metadata": {},
   "source": [
    "We can also take a look at the top five ranked hours with the highest average comments."
   ]
  },
  {
   "cell_type": "code",
   "execution_count": 21,
   "metadata": {},
   "outputs": [
    {
     "name": "stdout",
     "output_type": "stream",
     "text": [
      "Top five hours for 'Ask HN' comments:\n",
      "\n",
      "15:00 => 38.59 average comments per post\n",
      "02:00 => 23.81 average comments per post\n",
      "20:00 => 21.52 average comments per post\n",
      "16:00 => 16.80 average comments per post\n",
      "21:00 => 16.01 average comments per post\n"
     ]
    }
   ],
   "source": [
    "swap_avg_by_hour = []\n",
    "\n",
    "for key_hour in comments_by_hour:\n",
    "    swap_avg_by_hour.append([comments_by_hour[key_hour] / counts_by_hour[key_hour], key_hour])\n",
    "\n",
    "sorted_swap = sorted(swap_avg_by_hour, reverse=True)\n",
    "\n",
    "print(\"Top five hours for 'Ask HN' comments:\\n\")\n",
    "for average, hour in sorted_swap[:5]:\n",
    "#    print('{}: {:.2f} average comments per post'.format(row[1], row[0]))\n",
    "    print(\n",
    "        \"{} => {:.2f} average comments per post\".format(\n",
    "            dt.datetime.strptime(hour, \"%H\").strftime(\"%H:%M\"),average\n",
    "        )\n",
    "    )"
   ]
  },
  {
   "cell_type": "markdown",
   "metadata": {},
   "source": [
    "As we can see in **Figure 4**, the most comments to the 'Ask HN' posts were created at 15:00, 20:00 and 2:00 (timezone is Eastern Time in the US).  These results suggest that these are the best time to post on HN."
   ]
  },
  {
   "cell_type": "markdown",
   "metadata": {},
   "source": [
    "### Calculating the number of upvotes Ask/Show HN posts received\n",
    "\n",
    "We can investigate now if Ask HN or Show HN posts receive more points (upvotes) on average and if posts created at a certain time are more likely to receive more points."
   ]
  },
  {
   "cell_type": "code",
   "execution_count": 22,
   "metadata": {},
   "outputs": [],
   "source": [
    "# Ask HN posts\n",
    "result_ask_num_points = []\n",
    "\n",
    "for row in ask_posts:\n",
    "    num_points = int(row[3])  # number of upvotes received for Ask HN posts\n",
    "    created_at = row[6]       # post's creation date\n",
    "    element_list = [created_at, num_points]\n",
    "    result_ask_num_points.append(element_list)\n",
    "\n",
    "counts_upvotes_by_hour_ask = {}     # counts of upvotes created during each hour of the day\n",
    "number_upvotes_by_hour_ask = {}     # number of upvotes Ask post received    \n",
    "    \n",
    "for row in result_ask_num_points:\n",
    "    date_string = row[0]\n",
    "    upvotes = row[1]\n",
    "\n",
    "    # creates a datetime object from our date_string\n",
    "    datetime_object = dt.datetime.strptime(date_string, '%m/%d/%Y %H:%M')\n",
    "\n",
    "    # extracts the hour\n",
    "    hour = datetime_object.strftime('%H')\n",
    "\n",
    "    if hour not in counts_upvotes_by_hour_ask:\n",
    "        counts_upvotes_by_hour_ask[hour] = 1\n",
    "        number_upvotes_by_hour_ask[hour] = upvotes\n",
    "    else:\n",
    "        counts_upvotes_by_hour_ask[hour] += 1\n",
    "        number_upvotes_by_hour_ask[hour] += upvotes\n",
    "\n",
    "        \n",
    "# Show HN posts    \n",
    "result_show_num_points = []\n",
    "\n",
    "for row in show_posts:\n",
    "    num_points = int(row[3])  # number of upvotes received for Show HN posts\n",
    "    created_at = row[6]       # post's creation date\n",
    "    element_list = [created_at, num_points]\n",
    "    result_show_num_points.append(element_list)\n",
    "    \n",
    "counts_upvotes_by_hour_show = {}     # counts of upvotes created during each hour of the day\n",
    "number_upvotes_by_hour_show = {}     # number of upvotes Show post received    \n",
    "    \n",
    "for row in result_show_num_points:\n",
    "    date_string = row[0]\n",
    "    upvotes = row[1]\n",
    "\n",
    "    # creates a datetime object from our date_string\n",
    "    datetime_object = dt.datetime.strptime(date_string, '%m/%d/%Y %H:%M')\n",
    "\n",
    "    # extracts the hour\n",
    "    hour = datetime_object.strftime('%H')\n",
    "\n",
    "    if hour not in counts_upvotes_by_hour_show:\n",
    "        counts_upvotes_by_hour_show[hour] = 1\n",
    "        number_upvotes_by_hour_show[hour] = upvotes\n",
    "    else:\n",
    "        counts_upvotes_by_hour_show[hour] += 1\n",
    "        number_upvotes_by_hour_show[hour] += upvotes"
   ]
  },
  {
   "cell_type": "markdown",
   "metadata": {},
   "source": [
    "#### Determining the average number of upvotes by the hour for Ask HN posts"
   ]
  },
  {
   "cell_type": "code",
   "execution_count": 23,
   "metadata": {},
   "outputs": [],
   "source": [
    "avg_upvotes_by_hour_ask = []\n",
    "\n",
    "for key_hour in number_upvotes_by_hour_ask:\n",
    "    avg_upvotes_by_hour_ask.append([int(key_hour), number_upvotes_by_hour_ask[key_hour] / counts_upvotes_by_hour_ask[key_hour]])\n",
    "    \n",
    "# Converting 0 to 24 hour\n",
    "for row in avg_upvotes_by_hour_ask:\n",
    "    if row[0] == 0:\n",
    "        row[0] = 24   # converts 0 to 24 hour      "
   ]
  },
  {
   "cell_type": "markdown",
   "metadata": {},
   "source": [
    "We can use the built-in function `sorted` to sort the average number of upvotes."
   ]
  },
  {
   "cell_type": "code",
   "execution_count": 24,
   "metadata": {},
   "outputs": [
    {
     "data": {
      "text/plain": [
       "[[1, 11.666666666666666],\n",
       " [2, 13.672413793103448],\n",
       " [3, 6.925925925925926],\n",
       " [4, 8.27659574468085],\n",
       " [5, 12.0],\n",
       " [6, 13.431818181818182],\n",
       " [7, 10.617647058823529],\n",
       " [8, 10.729166666666666],\n",
       " [9, 7.311111111111111],\n",
       " [10, 18.677966101694917],\n",
       " [11, 14.224137931034482],\n",
       " [12, 10.712328767123287],\n",
       " [13, 24.258823529411764],\n",
       " [14, 11.981308411214954],\n",
       " [15, 29.99137931034483],\n",
       " [16, 23.35185185185185],\n",
       " [17, 19.41],\n",
       " [18, 15.972477064220184],\n",
       " [19, 13.754545454545454],\n",
       " [20, 14.3875],\n",
       " [21, 15.788990825688073],\n",
       " [22, 7.197183098591549],\n",
       " [23, 8.544117647058824],\n",
       " [24, 8.2]]"
      ]
     },
     "execution_count": 24,
     "metadata": {},
     "output_type": "execute_result"
    }
   ],
   "source": [
    "sorted_avg_upvotes_by_hour_ask = sorted(avg_upvotes_by_hour_ask) \n",
    "sorted_avg_upvotes_by_hour_ask"
   ]
  },
  {
   "cell_type": "markdown",
   "metadata": {},
   "source": [
    "#### Determining the average number of upvotes by the hour for Show HN posts"
   ]
  },
  {
   "cell_type": "code",
   "execution_count": 25,
   "metadata": {},
   "outputs": [],
   "source": [
    "avg_upvotes_by_hour_show = []\n",
    "\n",
    "for key_hour in number_upvotes_by_hour_show:\n",
    "    avg_upvotes_by_hour_show.append([int(key_hour), number_upvotes_by_hour_show[key_hour] / counts_upvotes_by_hour_show[key_hour]])\n",
    "    \n",
    "# Converting 0 to 24 hour\n",
    "for row in avg_upvotes_by_hour_show:\n",
    "    if row[0] == 0:\n",
    "        row[0] = 24   # converts 0 to 24 hour"
   ]
  },
  {
   "cell_type": "markdown",
   "metadata": {},
   "source": [
    "We can also use the built-in function `sorted` to sort the average number of upvotes."
   ]
  },
  {
   "cell_type": "code",
   "execution_count": 26,
   "metadata": {},
   "outputs": [
    {
     "data": {
      "text/plain": [
       "[[1, 25.0],\n",
       " [2, 11.333333333333334],\n",
       " [3, 25.14814814814815],\n",
       " [4, 14.846153846153847],\n",
       " [5, 5.473684210526316],\n",
       " [6, 23.4375],\n",
       " [7, 19.0],\n",
       " [8, 15.264705882352942],\n",
       " [9, 18.433333333333334],\n",
       " [10, 18.916666666666668],\n",
       " [11, 33.63636363636363],\n",
       " [12, 41.68852459016394],\n",
       " [13, 24.626262626262626],\n",
       " [14, 25.430232558139537],\n",
       " [15, 28.564102564102566],\n",
       " [16, 28.322580645161292],\n",
       " [17, 27.107526881720432],\n",
       " [18, 36.31147540983606],\n",
       " [19, 30.945454545454545],\n",
       " [20, 30.316666666666666],\n",
       " [21, 18.425531914893618],\n",
       " [22, 40.34782608695652],\n",
       " [23, 42.388888888888886],\n",
       " [24, 37.83870967741935]]"
      ]
     },
     "execution_count": 26,
     "metadata": {},
     "output_type": "execute_result"
    }
   ],
   "source": [
    "sorted_avg_upvotes_by_hour_show = sorted(avg_upvotes_by_hour_show)        \n",
    "sorted_avg_upvotes_by_hour_show"
   ]
  },
  {
   "cell_type": "markdown",
   "metadata": {},
   "source": [
    "These results are better visualized in **Figure 5**."
   ]
  },
  {
   "cell_type": "code",
   "execution_count": 27,
   "metadata": {},
   "outputs": [
    {
     "data": {
      "image/png": "[encoded data removed]",
      "text/plain": [
       "<Figure size 1296x576 with 1 Axes>"
      ]
     },
     "metadata": {},
     "output_type": "display_data"
    },
    {
     "name": "stdout",
     "output_type": "stream",
     "text": [
      "\u001b[1m Figure 5\u001b[0m. The average number of upvotes received for Ask/Show HN posts by the hour.\n",
      "\n"
     ]
    }
   ],
   "source": [
    "dict_sorted_avg_by_hour_ask = dict(sorted_avg_upvotes_by_hour_ask)\n",
    "dict_sorted_avg_by_hour_show = dict(sorted_avg_upvotes_by_hour_show)\n",
    "\n",
    "plt.figure(figsize=(18, 8))\n",
    "plt.style.use('fivethirtyeight')\n",
    "barWidth = 0.1\n",
    "X = np.arange(len(dict_sorted_avg_by_hour_ask))+1 \n",
    "ax = plt.subplot(111)\n",
    "ax.bar(X-0.2, dict_sorted_avg_by_hour_ask.values(), width = 0.4, color='darkorchid', align='center')\n",
    "ax.bar(X+0.2, dict_sorted_avg_by_hour_show.values(), width = 0.4, color='violet', align='center')\n",
    "ax.legend(('HN Ask post','HN Show post'), prop={'size':18})\n",
    "plt.title('Ask/Show HN', fontsize=25)\n",
    "plt.ylabel('average number of upvotes', fontsize=15, labelpad=20, weight='bold', size=22)\n",
    "plt.xlabel('hour', fontsize=15, labelpad=20, weight='bold', size=22)\n",
    "plt.locator_params(axis='x', nbins=47)\n",
    "plt.ylim(0, 40)\n",
    "plt.xlim(0.5, 24.5)\n",
    "plt.xticks(fontsize=16)\n",
    "plt.yticks(fontsize=16)\n",
    "plt.show()\n",
    "print('\\033[1m Figure 5\\033[0m. The average number of upvotes received for Ask/Show HN posts by the hour.\\n')  # using unicode for bold"
   ]
  },
  {
   "cell_type": "markdown",
   "metadata": {},
   "source": [
    "Although Ask HN posts have more views comparing with Show HN posts, as previously demonstrated, it seems from **Figure 5** that Show HN posts receive, in general, more upvotes than Ask HN posts. Moreover, the increase in Show HN post upvotes occurs outside the peak hour (around 15:00) for Ask HN comments, where most comments are received. "
   ]
  },
  {
   "cell_type": "markdown",
   "metadata": {},
   "source": [
    "### Comparing the number of comments with the number of upvotes received by Ask HN posts\n",
    "\n",
    "We can also compare the number of comments with the number of upvotes received by Ask HN posts using previously obtained dictionaries."
   ]
  },
  {
   "cell_type": "raw",
   "metadata": {},
   "source": [
    "The trends in upvotes and comments received by Ask posts are very similar."
   ]
  },
  {
   "cell_type": "markdown",
   "metadata": {},
   "source": [
    "## Conclusions"
   ]
  },
  {
   "cell_type": "markdown",
   "metadata": {},
   "source": [
    "We investigated which HN posts (Ask or Show) received more comments on average and found the best time to post Ask HN posts, in order to increase the amount of received comments. The number of upvotes can sugest that Ask and Show posts can exhibit different user profiles, an interesting question that could be addressed further. Finally, the trends in upvotes and comments received by Ask HN posts are very similar and sugest that not all commenters of these post vote."
   ]
  }
 ],
 "metadata": {
  "kernelspec": {
   "display_name": "Python 3",
   "language": "python",
   "name": "python3"
  },
  "language_info": {
   "codemirror_mode": {
    "name": "ipython",
    "version": 3
   },
   "file_extension": ".py",
   "mimetype": "text/x-python",
   "name": "python",
   "nbconvert_exporter": "python",
   "pygments_lexer": "ipython3",
   "version": "3.7.4"
  }
 },
 "nbformat": 4,
 "nbformat_minor": 4
}
